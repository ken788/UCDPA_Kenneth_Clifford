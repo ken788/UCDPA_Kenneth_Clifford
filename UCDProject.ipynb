{
 "cells": [
  {
   "cell_type": "code",
   "execution_count": 52,
   "id": "c04c4f80-b4eb-4ac7-aa63-1e93e7a696bb",
   "metadata": {},
   "outputs": [],
   "source": [
    "import pandas as pd\n",
    "import numpy as np\n",
    "import matplotlib as plt"
   ]
  },
  {
   "cell_type": "code",
   "execution_count": 53,
   "id": "7e27c5a2-dba5-48a0-b9d8-e99a8ebb0498",
   "metadata": {},
   "outputs": [],
   "source": [
    "netflix = pd.read_csv(\"C:/Users/kencl/UCDProject/netflixData.csv\")"
   ]
  },
  {
   "cell_type": "code",
   "execution_count": 54,
   "id": "b26cdfb7-5300-4d0b-afcc-ae6c78afe996",
   "metadata": {},
   "outputs": [
    {
     "name": "stdout",
     "output_type": "stream",
     "text": [
      "                                Show Id                          Title  \\\n",
      "0  cc1b6ed9-cf9e-4057-8303-34577fb54477                       (Un)Well   \n",
      "1  e2ef4e91-fb25-42ab-b485-be8e3b23dedb                         #Alive   \n",
      "2  b01b73b7-81f6-47a7-86d8-acb63080d525  #AnneFrank - Parallel Stories   \n",
      "3  b6611af0-f53c-4a08-9ffa-9716dc57eb9c                       #blackAF   \n",
      "4  7f2d4170-bab8-4d75-adc2-197f7124c070               #cats_the_mewvie   \n",
      "\n",
      "                                         Description  \\\n",
      "0  This docuseries takes a deep dive into the luc...   \n",
      "1  As a grisly virus rampages a city, a lone man ...   \n",
      "2  Through her diary, Anne Frank's story is retol...   \n",
      "3  Kenya Barris and his family navigate relations...   \n",
      "4  This pawesome documentary explores how our fel...   \n",
      "\n",
      "                      Director  \\\n",
      "0                          NaN   \n",
      "1                       Cho Il   \n",
      "2  Sabina Fedeli, Anna Migotto   \n",
      "3                          NaN   \n",
      "4             Michael Margolis   \n",
      "\n",
      "                                           Genres  \\\n",
      "0                                      Reality TV   \n",
      "1  Horror Movies, International Movies, Thrillers   \n",
      "2             Documentaries, International Movies   \n",
      "3                                     TV Comedies   \n",
      "4             Documentaries, International Movies   \n",
      "\n",
      "                                                Cast Production Country  \\\n",
      "0                                                NaN      United States   \n",
      "1                           Yoo Ah-in, Park Shin-hye        South Korea   \n",
      "2                        Helen Mirren, Gengher Gatti              Italy   \n",
      "3  Kenya Barris, Rashida Jones, Iman Benson, Genn...      United States   \n",
      "4                                                NaN             Canada   \n",
      "\n",
      "   Release Date Rating  Duration Imdb Score Content Type         Date Added  \n",
      "0        2020.0  TV-MA  1 Season     6.6/10      TV Show                NaN  \n",
      "1        2020.0  TV-MA    99 min     6.2/10        Movie  September 8, 2020  \n",
      "2        2019.0  TV-14    95 min     6.4/10        Movie       July 1, 2020  \n",
      "3        2020.0  TV-MA  1 Season     6.6/10      TV Show                NaN  \n",
      "4        2020.0  TV-14    90 min     5.1/10        Movie   February 5, 2020  \n"
     ]
    }
   ],
   "source": [
    "print(netflix.head())"
   ]
  },
  {
   "cell_type": "code",
   "execution_count": 55,
   "id": "4b71148f-ca40-415d-9c5d-4ccbbbe21a52",
   "metadata": {},
   "outputs": [
    {
     "name": "stdout",
     "output_type": "stream",
     "text": [
      "<class 'pandas.core.frame.DataFrame'>\n",
      "RangeIndex: 5967 entries, 0 to 5966\n",
      "Data columns (total 13 columns):\n",
      " #   Column              Non-Null Count  Dtype  \n",
      "---  ------              --------------  -----  \n",
      " 0   Show Id             5967 non-null   object \n",
      " 1   Title               5967 non-null   object \n",
      " 2   Description         5967 non-null   object \n",
      " 3   Director            3903 non-null   object \n",
      " 4   Genres              5967 non-null   object \n",
      " 5   Cast                5437 non-null   object \n",
      " 6   Production Country  5408 non-null   object \n",
      " 7   Release Date        5964 non-null   float64\n",
      " 8   Rating              5963 non-null   object \n",
      " 9   Duration            5964 non-null   object \n",
      " 10  Imdb Score          5359 non-null   object \n",
      " 11  Content Type        5967 non-null   object \n",
      " 12  Date Added          4632 non-null   object \n",
      "dtypes: float64(1), object(12)\n",
      "memory usage: 606.1+ KB\n",
      "None\n"
     ]
    }
   ],
   "source": [
    "print(netflix.info())"
   ]
  },
  {
   "cell_type": "code",
   "execution_count": 56,
   "id": "bbe48d5b-a45e-47d2-ba31-d2de40208ef2",
   "metadata": {},
   "outputs": [
    {
     "data": {
      "text/plain": [
       "Show Id                  0\n",
       "Title                    0\n",
       "Description              0\n",
       "Director              2064\n",
       "Genres                   0\n",
       "Cast                   530\n",
       "Production Country     559\n",
       "Release Date             3\n",
       "Rating                   4\n",
       "Duration                 3\n",
       "Imdb Score             608\n",
       "Content Type             0\n",
       "Date Added            1335\n",
       "dtype: int64"
      ]
     },
     "execution_count": 56,
     "metadata": {},
     "output_type": "execute_result"
    }
   ],
   "source": [
    "netflix.isnull().sum()"
   ]
  },
  {
   "cell_type": "markdown",
   "id": "beae0b37-d750-49be-8a2e-00b8412c0b11",
   "metadata": {},
   "source": [
    "As there is a lot of null values in multiple columns, instead of dropping null values and losing a good chunk of the dataset i decided to fill most of the missing values, and drop where i am not losing much."
   ]
  },
  {
   "cell_type": "code",
   "execution_count": 57,
   "id": "7d0f7e22-041c-44a8-be9f-ba323da995b7",
   "metadata": {},
   "outputs": [],
   "source": [
    "netflix[\"Director\"] = netflix[\"Director\"].fillna(\"unknown\")"
   ]
  },
  {
   "cell_type": "code",
   "execution_count": 58,
   "id": "274ececb-a505-4ec6-afc5-284691de410d",
   "metadata": {},
   "outputs": [],
   "source": [
    "netflix[\"Cast\"] = netflix[\"Cast\"].fillna(\"unknown\")"
   ]
  },
  {
   "cell_type": "code",
   "execution_count": 59,
   "id": "7be440b5-74be-44d2-b2c9-a7a237ec25d6",
   "metadata": {},
   "outputs": [
    {
     "data": {
      "text/plain": [
       "TV-MA    2541\n",
       "TV-14    1551\n",
       "TV-PG     527\n",
       "R         385\n",
       "TV-Y      240\n",
       "PG-13     226\n",
       "TV-Y7     206\n",
       "TV-G      146\n",
       "PG        125\n",
       "G          15\n",
       "NC-17       1\n",
       "Name: Rating, dtype: int64"
      ]
     },
     "execution_count": 59,
     "metadata": {},
     "output_type": "execute_result"
    }
   ],
   "source": [
    "netflix[\"Rating\"].value_counts()"
   ]
  },
  {
   "cell_type": "markdown",
   "id": "7d389967-42c4-4319-b452-d75284b126f4",
   "metadata": {},
   "source": [
    "giving that TV-MA shows up the most often i decided to replace null values in this category with TV-MA"
   ]
  },
  {
   "cell_type": "code",
   "execution_count": 60,
   "id": "a4765638-0c2a-4366-9e04-02a946cd1636",
   "metadata": {},
   "outputs": [],
   "source": [
    "netflix[\"Rating\"] = netflix[\"Rating\"].fillna(\"TV-MA\")"
   ]
  },
  {
   "cell_type": "code",
   "execution_count": 61,
   "id": "b6d4f210-82a8-43d6-98ee-5459387cbc40",
   "metadata": {},
   "outputs": [
    {
     "data": {
      "text/plain": [
       "Show Id                  0\n",
       "Title                    0\n",
       "Description              0\n",
       "Director                 0\n",
       "Genres                   0\n",
       "Cast                     0\n",
       "Production Country     559\n",
       "Release Date             3\n",
       "Rating                   0\n",
       "Duration                 3\n",
       "Imdb Score             608\n",
       "Content Type             0\n",
       "Date Added            1335\n",
       "dtype: int64"
      ]
     },
     "execution_count": 61,
     "metadata": {},
     "output_type": "execute_result"
    }
   ],
   "source": [
    "netflix.isna().sum()"
   ]
  },
  {
   "cell_type": "markdown",
   "id": "45e6340f-9fd1-4dbd-b456-25a72d16d821",
   "metadata": {},
   "source": [
    "I am not going to be using date added and i am not losing as much values in the remaining null values so i have decided to drop the rest"
   ]
  },
  {
   "cell_type": "code",
   "execution_count": 64,
   "id": "abd940b7-2ef0-425c-bdcd-811be0686a0f",
   "metadata": {},
   "outputs": [],
   "source": [
    "netflix = netflix.drop(\"Date Added\", axis=1)"
   ]
  },
  {
   "cell_type": "code",
   "execution_count": 68,
   "id": "f370ad96-7325-41c2-a474-c788dc4f276c",
   "metadata": {},
   "outputs": [],
   "source": [
    "netflix = netflix.dropna(subset=[\"Production Country\", \"Release Date\", \"Duration\", \"Imdb Score\"])"
   ]
  },
  {
   "cell_type": "code",
   "execution_count": 69,
   "id": "33f50830-fb1c-4651-add8-7e9a7f376f10",
   "metadata": {},
   "outputs": [
    {
     "data": {
      "text/plain": [
       "Show Id               0\n",
       "Title                 0\n",
       "Description           0\n",
       "Director              0\n",
       "Genres                0\n",
       "Cast                  0\n",
       "Production Country    0\n",
       "Release Date          0\n",
       "Rating                0\n",
       "Duration              0\n",
       "Imdb Score            0\n",
       "Content Type          0\n",
       "dtype: int64"
      ]
     },
     "execution_count": 69,
     "metadata": {},
     "output_type": "execute_result"
    }
   ],
   "source": [
    "netflix.isnull().sum()"
   ]
  },
  {
   "cell_type": "code",
   "execution_count": null,
   "id": "5ae5d96e-33bc-435f-bee4-eea63bf7d34b",
   "metadata": {},
   "outputs": [],
   "source": []
  }
 ],
 "metadata": {
  "kernelspec": {
   "display_name": "Python 3",
   "language": "python",
   "name": "python3"
  },
  "language_info": {
   "codemirror_mode": {
    "name": "ipython",
    "version": 3
   },
   "file_extension": ".py",
   "mimetype": "text/x-python",
   "name": "python",
   "nbconvert_exporter": "python",
   "pygments_lexer": "ipython3",
   "version": "3.8.8"
  }
 },
 "nbformat": 4,
 "nbformat_minor": 5
}
