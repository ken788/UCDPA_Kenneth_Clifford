{
 "cells": [
  {
   "cell_type": "code",
   "execution_count": 95,
   "id": "c04c4f80-b4eb-4ac7-aa63-1e93e7a696bb",
   "metadata": {},
   "outputs": [],
   "source": [
    "import pandas as pd\n",
    "import numpy as np\n",
    "import matplotlib.pyplot as plt\n",
    "import seaborn as sns\n",
    "from collections import Counter"
   ]
  },
  {
   "cell_type": "code",
   "execution_count": 77,
   "id": "7e27c5a2-dba5-48a0-b9d8-e99a8ebb0498",
   "metadata": {},
   "outputs": [],
   "source": [
    "netflix = pd.read_csv(\"C:/Users/kencl/UCDProject/netflixData.csv\", index_col =1)"
   ]
  },
  {
   "cell_type": "code",
   "execution_count": 78,
   "id": "b26cdfb7-5300-4d0b-afcc-ae6c78afe996",
   "metadata": {},
   "outputs": [
    {
     "name": "stdout",
     "output_type": "stream",
     "text": [
      "                                                            Show Id  \\\n",
      "Title                                                                 \n",
      "(Un)Well                       cc1b6ed9-cf9e-4057-8303-34577fb54477   \n",
      "#Alive                         e2ef4e91-fb25-42ab-b485-be8e3b23dedb   \n",
      "#AnneFrank - Parallel Stories  b01b73b7-81f6-47a7-86d8-acb63080d525   \n",
      "#blackAF                       b6611af0-f53c-4a08-9ffa-9716dc57eb9c   \n",
      "#cats_the_mewvie               7f2d4170-bab8-4d75-adc2-197f7124c070   \n",
      "\n",
      "                                                                     Description  \\\n",
      "Title                                                                              \n",
      "(Un)Well                       This docuseries takes a deep dive into the luc...   \n",
      "#Alive                         As a grisly virus rampages a city, a lone man ...   \n",
      "#AnneFrank - Parallel Stories  Through her diary, Anne Frank's story is retol...   \n",
      "#blackAF                       Kenya Barris and his family navigate relations...   \n",
      "#cats_the_mewvie               This pawesome documentary explores how our fel...   \n",
      "\n",
      "                                                  Director  \\\n",
      "Title                                                        \n",
      "(Un)Well                                               NaN   \n",
      "#Alive                                              Cho Il   \n",
      "#AnneFrank - Parallel Stories  Sabina Fedeli, Anna Migotto   \n",
      "#blackAF                                               NaN   \n",
      "#cats_the_mewvie                          Michael Margolis   \n",
      "\n",
      "                                                                       Genres  \\\n",
      "Title                                                                           \n",
      "(Un)Well                                                           Reality TV   \n",
      "#Alive                         Horror Movies, International Movies, Thrillers   \n",
      "#AnneFrank - Parallel Stories             Documentaries, International Movies   \n",
      "#blackAF                                                          TV Comedies   \n",
      "#cats_the_mewvie                          Documentaries, International Movies   \n",
      "\n",
      "                                                                            Cast  \\\n",
      "Title                                                                              \n",
      "(Un)Well                                                                     NaN   \n",
      "#Alive                                                  Yoo Ah-in, Park Shin-hye   \n",
      "#AnneFrank - Parallel Stories                        Helen Mirren, Gengher Gatti   \n",
      "#blackAF                       Kenya Barris, Rashida Jones, Iman Benson, Genn...   \n",
      "#cats_the_mewvie                                                             NaN   \n",
      "\n",
      "                              Production Country  Release Date Rating  \\\n",
      "Title                                                                   \n",
      "(Un)Well                           United States        2020.0  TV-MA   \n",
      "#Alive                               South Korea        2020.0  TV-MA   \n",
      "#AnneFrank - Parallel Stories              Italy        2019.0  TV-14   \n",
      "#blackAF                           United States        2020.0  TV-MA   \n",
      "#cats_the_mewvie                          Canada        2020.0  TV-14   \n",
      "\n",
      "                               Duration Imdb Score Content Type  \\\n",
      "Title                                                             \n",
      "(Un)Well                       1 Season     6.6/10      TV Show   \n",
      "#Alive                           99 min     6.2/10        Movie   \n",
      "#AnneFrank - Parallel Stories    95 min     6.4/10        Movie   \n",
      "#blackAF                       1 Season     6.6/10      TV Show   \n",
      "#cats_the_mewvie                 90 min     5.1/10        Movie   \n",
      "\n",
      "                                      Date Added  \n",
      "Title                                             \n",
      "(Un)Well                                     NaN  \n",
      "#Alive                         September 8, 2020  \n",
      "#AnneFrank - Parallel Stories       July 1, 2020  \n",
      "#blackAF                                     NaN  \n",
      "#cats_the_mewvie                February 5, 2020  \n"
     ]
    }
   ],
   "source": [
    "print(netflix.head())"
   ]
  },
  {
   "cell_type": "code",
   "execution_count": 79,
   "id": "4b71148f-ca40-415d-9c5d-4ccbbbe21a52",
   "metadata": {},
   "outputs": [
    {
     "name": "stdout",
     "output_type": "stream",
     "text": [
      "<class 'pandas.core.frame.DataFrame'>\n",
      "Index: 5967 entries, (Un)Well to 최강전사 미니특공대 : 영웅의 탄생\n",
      "Data columns (total 12 columns):\n",
      " #   Column              Non-Null Count  Dtype  \n",
      "---  ------              --------------  -----  \n",
      " 0   Show Id             5967 non-null   object \n",
      " 1   Description         5967 non-null   object \n",
      " 2   Director            3903 non-null   object \n",
      " 3   Genres              5967 non-null   object \n",
      " 4   Cast                5437 non-null   object \n",
      " 5   Production Country  5408 non-null   object \n",
      " 6   Release Date        5964 non-null   float64\n",
      " 7   Rating              5963 non-null   object \n",
      " 8   Duration            5964 non-null   object \n",
      " 9   Imdb Score          5359 non-null   object \n",
      " 10  Content Type        5967 non-null   object \n",
      " 11  Date Added          4632 non-null   object \n",
      "dtypes: float64(1), object(11)\n",
      "memory usage: 606.0+ KB\n",
      "None\n"
     ]
    }
   ],
   "source": [
    "print(netflix.info())"
   ]
  },
  {
   "cell_type": "code",
   "execution_count": 80,
   "id": "bbe48d5b-a45e-47d2-ba31-d2de40208ef2",
   "metadata": {},
   "outputs": [
    {
     "data": {
      "text/plain": [
       "Show Id                  0\n",
       "Description              0\n",
       "Director              2064\n",
       "Genres                   0\n",
       "Cast                   530\n",
       "Production Country     559\n",
       "Release Date             3\n",
       "Rating                   4\n",
       "Duration                 3\n",
       "Imdb Score             608\n",
       "Content Type             0\n",
       "Date Added            1335\n",
       "dtype: int64"
      ]
     },
     "execution_count": 80,
     "metadata": {},
     "output_type": "execute_result"
    }
   ],
   "source": [
    "netflix.isnull().sum()"
   ]
  },
  {
   "cell_type": "markdown",
   "id": "beae0b37-d750-49be-8a2e-00b8412c0b11",
   "metadata": {},
   "source": [
    "As there is a lot of null values in multiple columns, instead of dropping null values and losing a good chunk of the dataset i decided to fill most of the missing values, and drop where i am not losing much."
   ]
  },
  {
   "cell_type": "code",
   "execution_count": 81,
   "id": "7d0f7e22-041c-44a8-be9f-ba323da995b7",
   "metadata": {},
   "outputs": [],
   "source": [
    "netflix[\"Director\"] = netflix[\"Director\"].fillna(\"unknown\")"
   ]
  },
  {
   "cell_type": "code",
   "execution_count": 82,
   "id": "274ececb-a505-4ec6-afc5-284691de410d",
   "metadata": {},
   "outputs": [],
   "source": [
    "netflix[\"Cast\"] = netflix[\"Cast\"].fillna(\"unknown\")"
   ]
  },
  {
   "cell_type": "code",
   "execution_count": 83,
   "id": "7be440b5-74be-44d2-b2c9-a7a237ec25d6",
   "metadata": {},
   "outputs": [
    {
     "data": {
      "text/plain": [
       "TV-MA    2541\n",
       "TV-14    1551\n",
       "TV-PG     527\n",
       "R         385\n",
       "TV-Y      240\n",
       "PG-13     226\n",
       "TV-Y7     206\n",
       "TV-G      146\n",
       "PG        125\n",
       "G          15\n",
       "NC-17       1\n",
       "Name: Rating, dtype: int64"
      ]
     },
     "execution_count": 83,
     "metadata": {},
     "output_type": "execute_result"
    }
   ],
   "source": [
    "netflix[\"Rating\"].value_counts()"
   ]
  },
  {
   "cell_type": "markdown",
   "id": "7d389967-42c4-4319-b452-d75284b126f4",
   "metadata": {},
   "source": [
    "giving that TV-MA shows up the most often i decided to replace null values in this category with TV-MA"
   ]
  },
  {
   "cell_type": "code",
   "execution_count": 84,
   "id": "a4765638-0c2a-4366-9e04-02a946cd1636",
   "metadata": {},
   "outputs": [],
   "source": [
    "netflix[\"Rating\"] = netflix[\"Rating\"].fillna(\"TV-MA\")"
   ]
  },
  {
   "cell_type": "code",
   "execution_count": 85,
   "id": "b6d4f210-82a8-43d6-98ee-5459387cbc40",
   "metadata": {},
   "outputs": [
    {
     "data": {
      "text/plain": [
       "Show Id                  0\n",
       "Description              0\n",
       "Director                 0\n",
       "Genres                   0\n",
       "Cast                     0\n",
       "Production Country     559\n",
       "Release Date             3\n",
       "Rating                   0\n",
       "Duration                 3\n",
       "Imdb Score             608\n",
       "Content Type             0\n",
       "Date Added            1335\n",
       "dtype: int64"
      ]
     },
     "execution_count": 85,
     "metadata": {},
     "output_type": "execute_result"
    }
   ],
   "source": [
    "netflix.isna().sum()"
   ]
  },
  {
   "cell_type": "markdown",
   "id": "45e6340f-9fd1-4dbd-b456-25a72d16d821",
   "metadata": {},
   "source": [
    "I am not going to be using date added and i am not losing as much values in the remaining null values so i have decided to drop the rest"
   ]
  },
  {
   "cell_type": "code",
   "execution_count": 86,
   "id": "abd940b7-2ef0-425c-bdcd-811be0686a0f",
   "metadata": {},
   "outputs": [],
   "source": [
    "netflix = netflix.drop(\"Date Added\", axis=1)"
   ]
  },
  {
   "cell_type": "code",
   "execution_count": 87,
   "id": "f370ad96-7325-41c2-a474-c788dc4f276c",
   "metadata": {},
   "outputs": [],
   "source": [
    "netflix = netflix.dropna(subset=[\"Production Country\", \"Release Date\", \"Duration\", \"Imdb Score\"])"
   ]
  },
  {
   "cell_type": "code",
   "execution_count": 88,
   "id": "33f50830-fb1c-4651-add8-7e9a7f376f10",
   "metadata": {},
   "outputs": [
    {
     "data": {
      "text/plain": [
       "Show Id               0\n",
       "Description           0\n",
       "Director              0\n",
       "Genres                0\n",
       "Cast                  0\n",
       "Production Country    0\n",
       "Release Date          0\n",
       "Rating                0\n",
       "Duration              0\n",
       "Imdb Score            0\n",
       "Content Type          0\n",
       "dtype: int64"
      ]
     },
     "execution_count": 88,
     "metadata": {},
     "output_type": "execute_result"
    }
   ],
   "source": [
    "netflix.isnull().sum()"
   ]
  },
  {
   "cell_type": "code",
   "execution_count": 89,
   "id": "143ff9aa-72ca-4f68-a76f-27096ac70ae7",
   "metadata": {},
   "outputs": [
    {
     "data": {
      "text/plain": [
       "<AxesSubplot:title={'center':'Content Type on Netflix'}, ylabel='Content Type'>"
      ]
     },
     "execution_count": 89,
     "metadata": {},
     "output_type": "execute_result"
    },
    {
     "data": {
      "image/png": "[encoded data removed]",
      "text/plain": [
       "<Figure size 576x1440 with 1 Axes>"
      ]
     },
     "metadata": {},
     "output_type": "display_data"
    }
   ],
   "source": [
    "netflix[\"Content Type\"].value_counts().plot(kind=\"pie\", legend=True, title=\"Content Type on Netflix\", autopct='%1.1f%%', figsize=(8,20))"
   ]
  },
  {
   "cell_type": "markdown",
   "id": "a4e752d4-a9ee-4d67-9274-feed89efa2e5",
   "metadata": {},
   "source": [
    "Netflix are producing twice the amount of movie's as they are TV show's"
   ]
  },
  {
   "cell_type": "code",
   "execution_count": 90,
   "id": "eccbd0aa-d7b3-4737-a173-80feb9596c06",
   "metadata": {},
   "outputs": [
    {
     "data": {
      "text/plain": [
       "<AxesSubplot:xlabel='Rating', ylabel=\"number of Movie's and TV Shows\">"
      ]
     },
     "execution_count": 90,
     "metadata": {},
     "output_type": "execute_result"
    },
    {
     "data": {
      "image/png": "[encoded data removed]",
      "text/plain": [
       "<Figure size 432x288 with 1 Axes>"
      ]
     },
     "metadata": {
      "needs_background": "light"
     },
     "output_type": "display_data"
    }
   ],
   "source": [
    "rating = netflix.groupby([\"Content Type\", \"Rating\"])[\"Rating\"].count().unstack(\"Content Type\")\n",
    "rating.columns = [\"Movie\", \"TV Show\"]\n",
    "rating[\"Totals\"] = rating[\"Movie\"] + rating[\"TV Show\"]\n",
    "rating = rating.sort_values(ascending=False, by=\"Totals\")\n",
    "rating.plot(kind=\"bar\", y=[\"Movie\", \"TV Show\"], ylabel=\"number of Movie's and TV Shows\")"
   ]
  },
  {
   "cell_type": "markdown",
   "id": "c533ee7c-5a3c-43d8-9608-ae7d6efe01a2",
   "metadata": {},
   "source": [
    "Netflix produce far more movies and tv shows for mature audiences than any other age demographic"
   ]
  },
  {
   "cell_type": "code",
   "execution_count": 125,
   "id": "ae6729a7-4aa4-4d1c-bb11-c3f2b7a7a5d8",
   "metadata": {},
   "outputs": [
    {
     "name": "stderr",
     "output_type": "stream",
     "text": [
      "<ipython-input-125-1e312e8b7cca>:7: UserWarning: FixedFormatter should only be used together with FixedLocator\n",
      "  ax.set_xticklabels(df_topgenres.index, rotation=90)\n"
     ]
    },
    {
     "data": {
      "image/png": "[encoded data removed]",
      "text/plain": [
       "<Figure size 432x288 with 1 Axes>"
      ]
     },
     "metadata": {
      "needs_background": "light"
     },
     "output_type": "display_data"
    }
   ],
   "source": [
    "top_genres = netflix[\"Genres\"][:20].value_counts()\n",
    "\n",
    "df_topgenres = pd.DataFrame(top_genres, columns= [\"Genres\", \"Genre count\"])\n",
    "\n",
    "fig, ax = plt.subplots()\n",
    "ax.bar(df_topgenres.index, df_topgenres[\"Genres\"])\n",
    "ax.set_xticklabels(df_topgenres.index, rotation=90)\n",
    "ax.set_ylabel(\"Number of Movies/TV Show's(Hundreds)\")\n",
    "plt.show()"
   ]
  },
  {
   "cell_type": "markdown",
   "id": "80161e33-5a5e-460d-8467-f2b2632c9e7e",
   "metadata": {},
   "source": [
    "The most frequent genres netflix are producing"
   ]
  },
  {
   "cell_type": "code",
   "execution_count": null,
   "id": "96501aaf-6f20-4ead-b611-40e3796f52e6",
   "metadata": {},
   "outputs": [],
   "source": []
  }
 ],
 "metadata": {
  "kernelspec": {
   "display_name": "Python 3",
   "language": "python",
   "name": "python3"
  },
  "language_info": {
   "codemirror_mode": {
    "name": "ipython",
    "version": 3
   },
   "file_extension": ".py",
   "mimetype": "text/x-python",
   "name": "python",
   "nbconvert_exporter": "python",
   "pygments_lexer": "ipython3",
   "version": "3.8.8"
  }
 },
 "nbformat": 4,
 "nbformat_minor": 5
}
